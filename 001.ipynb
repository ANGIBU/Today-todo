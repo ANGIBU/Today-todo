{
 "cells": [
  {
   "cell_type": "markdown",
   "id": "89d4fc2e",
   "metadata": {},
   "source": [
    "# CFG"
   ]
  },
  {
   "cell_type": "code",
   "execution_count": null,
   "id": "3d03a703",
   "metadata": {
    "vscode": {
     "languageId": "plaintext"
    }
   },
   "outputs": [],
   "source": [
    "CFG = {\n",
    "    'IMG_SIZE': 224, # EfficientNet-B0에 권장되는 해상도\n",
    "    'BATCH_SIZE': 40,\n",
    "    'EPOCHS': 20,\n",
    "    'LEARNING_RATE': 1e-4,\n",
    "    'SEED' : 42,\n",
    "    'LABEL_SMOOTHING': 0.15\n",
    "}"
   ]
  },
  {
   "cell_type": "markdown",
   "id": "28817c81",
   "metadata": {},
   "source": [
    "# Transform"
   ]
  },
  {
   "cell_type": "code",
   "execution_count": null,
   "id": "8a7d26fc",
   "metadata": {},
   "outputs": [],
   "source": [
    "train_transform = transforms.Compose([\n",
    "    transforms.Resize((CFG['IMG_SIZE'], CFG['IMG_SIZE'])),\n",
    "    transforms.RandomHorizontalFlip(), # 추가: 이미지를 무작위로 수평 뒤집기\n",
    "    transforms.RandomRotation(degrees=10), # 추가: 이미지를 최대 10도 무작위 회전\n",
    "    transforms.ColorJitter(brightness=0.3, contrast=0.3, saturation=0.3, hue=0.1), # 추가: 밝기, 대비, 채도, 색조 무작위 변경\n",
    "    transforms.RandomResizedCrop(CFG['IMG_SIZE'], scale=(0.75, 1.0)), # 추가: 무작위로 자르고 크기 조정\n",
    "    transforms.RandomApply([transforms.GaussianBlur(kernel_size=3)], p=0.2),\n",
    "    transforms.ToTensor(),\n",
    "    transforms.Normalize(mean=[0.485, 0.456, 0.406],\n",
    "                         std=[0.229, 0.224, 0.225])\n",
    "])\n",
    "\n",
    "val_transform = transforms.Compose([\n",
    "    transforms.Resize((CFG['IMG_SIZE'], CFG['IMG_SIZE'])),\n",
    "    transforms.ToTensor(),\n",
    "    transforms.Normalize(mean=[0.485, 0.456, 0.406],\n",
    "                         std=[0.229, 0.224, 0.225])\n",
    "])"
   ]
  },
  {
   "cell_type": "markdown",
   "id": "dadca55a",
   "metadata": {},
   "source": [
    "# Optimizer"
   ]
  },
  {
   "cell_type": "markdown",
   "id": "69a50be6",
   "metadata": {},
   "source": [
    "optimizer = torch.optim.AdamW(model.parameters(), lr=CFG['LEARNING_RATE'], weight_decay=2e-4)"
   ]
  },
  {
   "cell_type": "markdown",
   "id": "9e38a0d9",
   "metadata": {},
   "source": [
    "# scheduler"
   ]
  },
  {
   "cell_type": "markdown",
   "id": "df3f458b",
   "metadata": {},
   "source": [
    "scheduler = lr_scheduler.ReduceLROnPlateau(optimizer, mode='min', factor=0.5, patience=5, verbose=True, min_lr=1e-7)"
   ]
  },
  {
   "cell_type": "markdown",
   "id": "153dbb4e",
   "metadata": {},
   "source": [
    "# 변경사항\n",
    "\n",
    "## CFG\n",
    "이미지 사이즈를 224로 조정\n",
    "배치 사이즈 40으로 조정\n",
    "→ B0 모델에 최적한 값\n",
    "Smoothing = 0.15로 조정\n",
    "→ 클래스 과적합 방지\n",
    "\n",
    "## Transform\n",
    "degrees=15 → degrees=10\n",
    "ColorJitter : 0.2 → 0.3\n",
    "RandomResizedCrop : scale=(0.8, 1.0) → scale=(0.75, 1.0)\n",
    "GaussianBlur추가 = transforms.RandomApply([transforms.GaussianBlur(kernel_size=3)], p=0.2)\n",
    "\n",
    "\n",
    "## Optimizer\n",
    "lr을 CFG의 러닝레이트로 변경 사실상 1e-4\n",
    "weight_decay = 1e-4 → 2e-4\n",
    "\n",
    "## Scheduler\n",
    "patience 3 → 5 클래스가 396개라서 변경함\n",
    "min_lr 새로 추가 (1e-7)\n",
    "\n",
    "\n",
    "B0에 대한 최적화에는 CFG만 해당 코드로 바꾸면 좋지만"
   ]
  },
  {
   "cell_type": "markdown",
   "id": "7f00e537",
   "metadata": {},
   "source": []
  }
 ],
 "metadata": {
  "language_info": {
   "name": "python"
  }
 },
 "nbformat": 4,
 "nbformat_minor": 5
}
